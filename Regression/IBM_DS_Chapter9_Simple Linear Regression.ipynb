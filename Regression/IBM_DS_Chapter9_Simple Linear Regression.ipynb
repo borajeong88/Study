{
 "cells": [
  {
   "cell_type": "markdown",
   "id": "e7e2eaa9-0450-46bb-a1c2-7766fcd422a3",
   "metadata": {},
   "source": [
    "# Simple Linear Regression"
   ]
  },
  {
   "cell_type": "code",
   "execution_count": 2,
   "id": "a60222e4-656f-4ace-89ba-88d9786da101",
   "metadata": {},
   "outputs": [],
   "source": [
    "import pandas as pd\n",
    "import numpy as np\n",
    "import matplotlib.pyplot as plt\n",
    "import seaborn as sns"
   ]
  },
  {
   "cell_type": "markdown",
   "id": "0237aafc-b37f-4585-aeed-e784a7d3ac40",
   "metadata": {
    "tags": []
   },
   "source": [
    "## Reading the data in"
   ]
  },
  {
   "cell_type": "code",
   "execution_count": 1,
   "id": "2f258a20-d3cf-4f61-8016-808a502d967c",
   "metadata": {},
   "outputs": [],
   "source": [
    "path= \"https://cf-courses-data.s3.us.cloud-object-storage.appdomain.cloud/IBMDeveloperSkillsNetwork-ML0101EN-SkillsNetwork/labs/Module%202/data/FuelConsumptionCo2.csv\""
   ]
  },
  {
   "cell_type": "code",
   "execution_count": 5,
   "id": "6c8a3d96-c652-4483-942d-7092e805b85d",
   "metadata": {},
   "outputs": [
    {
     "data": {
      "text/html": [
       "<div>\n",
       "<style scoped>\n",
       "    .dataframe tbody tr th:only-of-type {\n",
       "        vertical-align: middle;\n",
       "    }\n",
       "\n",
       "    .dataframe tbody tr th {\n",
       "        vertical-align: top;\n",
       "    }\n",
       "\n",
       "    .dataframe thead th {\n",
       "        text-align: right;\n",
       "    }\n",
       "</style>\n",
       "<table border=\"1\" class=\"dataframe\">\n",
       "  <thead>\n",
       "    <tr style=\"text-align: right;\">\n",
       "      <th></th>\n",
       "      <th>MODELYEAR</th>\n",
       "      <th>MAKE</th>\n",
       "      <th>MODEL</th>\n",
       "      <th>VEHICLECLASS</th>\n",
       "      <th>ENGINESIZE</th>\n",
       "      <th>CYLINDERS</th>\n",
       "      <th>TRANSMISSION</th>\n",
       "      <th>FUELTYPE</th>\n",
       "      <th>FUELCONSUMPTION_CITY</th>\n",
       "      <th>FUELCONSUMPTION_HWY</th>\n",
       "      <th>FUELCONSUMPTION_COMB</th>\n",
       "      <th>FUELCONSUMPTION_COMB_MPG</th>\n",
       "      <th>CO2EMISSIONS</th>\n",
       "    </tr>\n",
       "  </thead>\n",
       "  <tbody>\n",
       "    <tr>\n",
       "      <th>0</th>\n",
       "      <td>2014</td>\n",
       "      <td>ACURA</td>\n",
       "      <td>ILX</td>\n",
       "      <td>COMPACT</td>\n",
       "      <td>2.0</td>\n",
       "      <td>4</td>\n",
       "      <td>AS5</td>\n",
       "      <td>Z</td>\n",
       "      <td>9.9</td>\n",
       "      <td>6.7</td>\n",
       "      <td>8.5</td>\n",
       "      <td>33</td>\n",
       "      <td>196</td>\n",
       "    </tr>\n",
       "    <tr>\n",
       "      <th>1</th>\n",
       "      <td>2014</td>\n",
       "      <td>ACURA</td>\n",
       "      <td>ILX</td>\n",
       "      <td>COMPACT</td>\n",
       "      <td>2.4</td>\n",
       "      <td>4</td>\n",
       "      <td>M6</td>\n",
       "      <td>Z</td>\n",
       "      <td>11.2</td>\n",
       "      <td>7.7</td>\n",
       "      <td>9.6</td>\n",
       "      <td>29</td>\n",
       "      <td>221</td>\n",
       "    </tr>\n",
       "    <tr>\n",
       "      <th>2</th>\n",
       "      <td>2014</td>\n",
       "      <td>ACURA</td>\n",
       "      <td>ILX HYBRID</td>\n",
       "      <td>COMPACT</td>\n",
       "      <td>1.5</td>\n",
       "      <td>4</td>\n",
       "      <td>AV7</td>\n",
       "      <td>Z</td>\n",
       "      <td>6.0</td>\n",
       "      <td>5.8</td>\n",
       "      <td>5.9</td>\n",
       "      <td>48</td>\n",
       "      <td>136</td>\n",
       "    </tr>\n",
       "    <tr>\n",
       "      <th>3</th>\n",
       "      <td>2014</td>\n",
       "      <td>ACURA</td>\n",
       "      <td>MDX 4WD</td>\n",
       "      <td>SUV - SMALL</td>\n",
       "      <td>3.5</td>\n",
       "      <td>6</td>\n",
       "      <td>AS6</td>\n",
       "      <td>Z</td>\n",
       "      <td>12.7</td>\n",
       "      <td>9.1</td>\n",
       "      <td>11.1</td>\n",
       "      <td>25</td>\n",
       "      <td>255</td>\n",
       "    </tr>\n",
       "    <tr>\n",
       "      <th>4</th>\n",
       "      <td>2014</td>\n",
       "      <td>ACURA</td>\n",
       "      <td>RDX AWD</td>\n",
       "      <td>SUV - SMALL</td>\n",
       "      <td>3.5</td>\n",
       "      <td>6</td>\n",
       "      <td>AS6</td>\n",
       "      <td>Z</td>\n",
       "      <td>12.1</td>\n",
       "      <td>8.7</td>\n",
       "      <td>10.6</td>\n",
       "      <td>27</td>\n",
       "      <td>244</td>\n",
       "    </tr>\n",
       "  </tbody>\n",
       "</table>\n",
       "</div>"
      ],
      "text/plain": [
       "   MODELYEAR   MAKE       MODEL VEHICLECLASS  ENGINESIZE  CYLINDERS  \\\n",
       "0       2014  ACURA         ILX      COMPACT         2.0          4   \n",
       "1       2014  ACURA         ILX      COMPACT         2.4          4   \n",
       "2       2014  ACURA  ILX HYBRID      COMPACT         1.5          4   \n",
       "3       2014  ACURA     MDX 4WD  SUV - SMALL         3.5          6   \n",
       "4       2014  ACURA     RDX AWD  SUV - SMALL         3.5          6   \n",
       "\n",
       "  TRANSMISSION FUELTYPE  FUELCONSUMPTION_CITY  FUELCONSUMPTION_HWY  \\\n",
       "0          AS5        Z                   9.9                  6.7   \n",
       "1           M6        Z                  11.2                  7.7   \n",
       "2          AV7        Z                   6.0                  5.8   \n",
       "3          AS6        Z                  12.7                  9.1   \n",
       "4          AS6        Z                  12.1                  8.7   \n",
       "\n",
       "   FUELCONSUMPTION_COMB  FUELCONSUMPTION_COMB_MPG  CO2EMISSIONS  \n",
       "0                   8.5                        33           196  \n",
       "1                   9.6                        29           221  \n",
       "2                   5.9                        48           136  \n",
       "3                  11.1                        25           255  \n",
       "4                  10.6                        27           244  "
      ]
     },
     "execution_count": 5,
     "metadata": {},
     "output_type": "execute_result"
    }
   ],
   "source": [
    "df = pd.read_csv(path)\n",
    "\n",
    "df.head()"
   ]
  },
  {
   "cell_type": "markdown",
   "id": "82a62ff0-9c84-4bc2-9ad3-0e5f277fe462",
   "metadata": {},
   "source": [
    "## Data Exploration"
   ]
  },
  {
   "cell_type": "code",
   "execution_count": 11,
   "id": "38ea4d7e-cbe1-4140-b819-c6018618b3f7",
   "metadata": {},
   "outputs": [
    {
     "data": {
      "text/html": [
       "<div>\n",
       "<style scoped>\n",
       "    .dataframe tbody tr th:only-of-type {\n",
       "        vertical-align: middle;\n",
       "    }\n",
       "\n",
       "    .dataframe tbody tr th {\n",
       "        vertical-align: top;\n",
       "    }\n",
       "\n",
       "    .dataframe thead th {\n",
       "        text-align: right;\n",
       "    }\n",
       "</style>\n",
       "<table border=\"1\" class=\"dataframe\">\n",
       "  <thead>\n",
       "    <tr style=\"text-align: right;\">\n",
       "      <th></th>\n",
       "      <th>MODELYEAR</th>\n",
       "      <th>ENGINESIZE</th>\n",
       "      <th>CYLINDERS</th>\n",
       "      <th>FUELCONSUMPTION_CITY</th>\n",
       "      <th>FUELCONSUMPTION_HWY</th>\n",
       "      <th>FUELCONSUMPTION_COMB</th>\n",
       "      <th>FUELCONSUMPTION_COMB_MPG</th>\n",
       "      <th>CO2EMISSIONS</th>\n",
       "    </tr>\n",
       "  </thead>\n",
       "  <tbody>\n",
       "    <tr>\n",
       "      <th>count</th>\n",
       "      <td>1067.0</td>\n",
       "      <td>1067.000000</td>\n",
       "      <td>1067.000000</td>\n",
       "      <td>1067.000000</td>\n",
       "      <td>1067.000000</td>\n",
       "      <td>1067.000000</td>\n",
       "      <td>1067.000000</td>\n",
       "      <td>1067.000000</td>\n",
       "    </tr>\n",
       "    <tr>\n",
       "      <th>mean</th>\n",
       "      <td>2014.0</td>\n",
       "      <td>3.346298</td>\n",
       "      <td>5.794752</td>\n",
       "      <td>13.296532</td>\n",
       "      <td>9.474602</td>\n",
       "      <td>11.580881</td>\n",
       "      <td>26.441425</td>\n",
       "      <td>256.228679</td>\n",
       "    </tr>\n",
       "    <tr>\n",
       "      <th>std</th>\n",
       "      <td>0.0</td>\n",
       "      <td>1.415895</td>\n",
       "      <td>1.797447</td>\n",
       "      <td>4.101253</td>\n",
       "      <td>2.794510</td>\n",
       "      <td>3.485595</td>\n",
       "      <td>7.468702</td>\n",
       "      <td>63.372304</td>\n",
       "    </tr>\n",
       "    <tr>\n",
       "      <th>min</th>\n",
       "      <td>2014.0</td>\n",
       "      <td>1.000000</td>\n",
       "      <td>3.000000</td>\n",
       "      <td>4.600000</td>\n",
       "      <td>4.900000</td>\n",
       "      <td>4.700000</td>\n",
       "      <td>11.000000</td>\n",
       "      <td>108.000000</td>\n",
       "    </tr>\n",
       "    <tr>\n",
       "      <th>25%</th>\n",
       "      <td>2014.0</td>\n",
       "      <td>2.000000</td>\n",
       "      <td>4.000000</td>\n",
       "      <td>10.250000</td>\n",
       "      <td>7.500000</td>\n",
       "      <td>9.000000</td>\n",
       "      <td>21.000000</td>\n",
       "      <td>207.000000</td>\n",
       "    </tr>\n",
       "    <tr>\n",
       "      <th>50%</th>\n",
       "      <td>2014.0</td>\n",
       "      <td>3.400000</td>\n",
       "      <td>6.000000</td>\n",
       "      <td>12.600000</td>\n",
       "      <td>8.800000</td>\n",
       "      <td>10.900000</td>\n",
       "      <td>26.000000</td>\n",
       "      <td>251.000000</td>\n",
       "    </tr>\n",
       "    <tr>\n",
       "      <th>75%</th>\n",
       "      <td>2014.0</td>\n",
       "      <td>4.300000</td>\n",
       "      <td>8.000000</td>\n",
       "      <td>15.550000</td>\n",
       "      <td>10.850000</td>\n",
       "      <td>13.350000</td>\n",
       "      <td>31.000000</td>\n",
       "      <td>294.000000</td>\n",
       "    </tr>\n",
       "    <tr>\n",
       "      <th>max</th>\n",
       "      <td>2014.0</td>\n",
       "      <td>8.400000</td>\n",
       "      <td>12.000000</td>\n",
       "      <td>30.200000</td>\n",
       "      <td>20.500000</td>\n",
       "      <td>25.800000</td>\n",
       "      <td>60.000000</td>\n",
       "      <td>488.000000</td>\n",
       "    </tr>\n",
       "  </tbody>\n",
       "</table>\n",
       "</div>"
      ],
      "text/plain": [
       "       MODELYEAR   ENGINESIZE    CYLINDERS  FUELCONSUMPTION_CITY  \\\n",
       "count     1067.0  1067.000000  1067.000000           1067.000000   \n",
       "mean      2014.0     3.346298     5.794752             13.296532   \n",
       "std          0.0     1.415895     1.797447              4.101253   \n",
       "min       2014.0     1.000000     3.000000              4.600000   \n",
       "25%       2014.0     2.000000     4.000000             10.250000   \n",
       "50%       2014.0     3.400000     6.000000             12.600000   \n",
       "75%       2014.0     4.300000     8.000000             15.550000   \n",
       "max       2014.0     8.400000    12.000000             30.200000   \n",
       "\n",
       "       FUELCONSUMPTION_HWY  FUELCONSUMPTION_COMB  FUELCONSUMPTION_COMB_MPG  \\\n",
       "count          1067.000000           1067.000000               1067.000000   \n",
       "mean              9.474602             11.580881                 26.441425   \n",
       "std               2.794510              3.485595                  7.468702   \n",
       "min               4.900000              4.700000                 11.000000   \n",
       "25%               7.500000              9.000000                 21.000000   \n",
       "50%               8.800000             10.900000                 26.000000   \n",
       "75%              10.850000             13.350000                 31.000000   \n",
       "max              20.500000             25.800000                 60.000000   \n",
       "\n",
       "       CO2EMISSIONS  \n",
       "count   1067.000000  \n",
       "mean     256.228679  \n",
       "std       63.372304  \n",
       "min      108.000000  \n",
       "25%      207.000000  \n",
       "50%      251.000000  \n",
       "75%      294.000000  \n",
       "max      488.000000  "
      ]
     },
     "execution_count": 11,
     "metadata": {},
     "output_type": "execute_result"
    }
   ],
   "source": [
    "# summarize the data\n",
    "\n",
    "df.describe()"
   ]
  },
  {
   "cell_type": "markdown",
   "id": "9d852e25-155d-4fd6-b5c3-62cba2d8cb23",
   "metadata": {},
   "source": [
    "Let's select some features to explore more."
   ]
  },
  {
   "cell_type": "code",
   "execution_count": 14,
   "id": "96199d9f-a48a-4cad-9009-60a16e0519f3",
   "metadata": {},
   "outputs": [
    {
     "data": {
      "text/html": [
       "<div>\n",
       "<style scoped>\n",
       "    .dataframe tbody tr th:only-of-type {\n",
       "        vertical-align: middle;\n",
       "    }\n",
       "\n",
       "    .dataframe tbody tr th {\n",
       "        vertical-align: top;\n",
       "    }\n",
       "\n",
       "    .dataframe thead th {\n",
       "        text-align: right;\n",
       "    }\n",
       "</style>\n",
       "<table border=\"1\" class=\"dataframe\">\n",
       "  <thead>\n",
       "    <tr style=\"text-align: right;\">\n",
       "      <th></th>\n",
       "      <th>ENGINESIZE</th>\n",
       "      <th>CYLINDERS</th>\n",
       "      <th>FUELCONSUMPTION_COMB</th>\n",
       "      <th>CO2EMISSIONS</th>\n",
       "    </tr>\n",
       "  </thead>\n",
       "  <tbody>\n",
       "    <tr>\n",
       "      <th>0</th>\n",
       "      <td>2.0</td>\n",
       "      <td>4</td>\n",
       "      <td>8.5</td>\n",
       "      <td>196</td>\n",
       "    </tr>\n",
       "    <tr>\n",
       "      <th>1</th>\n",
       "      <td>2.4</td>\n",
       "      <td>4</td>\n",
       "      <td>9.6</td>\n",
       "      <td>221</td>\n",
       "    </tr>\n",
       "    <tr>\n",
       "      <th>2</th>\n",
       "      <td>1.5</td>\n",
       "      <td>4</td>\n",
       "      <td>5.9</td>\n",
       "      <td>136</td>\n",
       "    </tr>\n",
       "    <tr>\n",
       "      <th>3</th>\n",
       "      <td>3.5</td>\n",
       "      <td>6</td>\n",
       "      <td>11.1</td>\n",
       "      <td>255</td>\n",
       "    </tr>\n",
       "    <tr>\n",
       "      <th>4</th>\n",
       "      <td>3.5</td>\n",
       "      <td>6</td>\n",
       "      <td>10.6</td>\n",
       "      <td>244</td>\n",
       "    </tr>\n",
       "  </tbody>\n",
       "</table>\n",
       "</div>"
      ],
      "text/plain": [
       "   ENGINESIZE  CYLINDERS  FUELCONSUMPTION_COMB  CO2EMISSIONS\n",
       "0         2.0          4                   8.5           196\n",
       "1         2.4          4                   9.6           221\n",
       "2         1.5          4                   5.9           136\n",
       "3         3.5          6                  11.1           255\n",
       "4         3.5          6                  10.6           244"
      ]
     },
     "execution_count": 14,
     "metadata": {},
     "output_type": "execute_result"
    }
   ],
   "source": [
    "cdf = df[['ENGINESIZE', 'CYLINDERS','FUELCONSUMPTION_COMB', 'CO2EMISSIONS']]\n",
    "cdf.head(5)"
   ]
  },
  {
   "cell_type": "markdown",
   "id": "d2d9c36d-7e44-4eb3-9615-06bf2f069d0c",
   "metadata": {},
   "source": [
    "We can plot each of these features:"
   ]
  },
  {
   "cell_type": "code",
   "execution_count": 18,
   "id": "5b6475fb-e005-4ef1-9130-791f536cc131",
   "metadata": {},
   "outputs": [
    {
     "data": {
      "image/png": "[encoded data removed]",
      "text/plain": [
       "<Figure size 432x288 with 4 Axes>"
      ]
     },
     "metadata": {
      "needs_background": "light"
     },
     "output_type": "display_data"
    },
    {
     "data": {
      "text/plain": [
       "<Figure size 720x360 with 0 Axes>"
      ]
     },
     "metadata": {},
     "output_type": "display_data"
    }
   ],
   "source": [
    "viz = cdf[['CYLINDERS','ENGINESIZE','CO2EMISSIONS','FUELCONSUMPTION_COMB']]\n",
    "\n",
    "viz.hist()\n",
    "\n",
    "plt.figure(figsize=(10, 5))\n",
    "plt.show()"
   ]
  },
  {
   "cell_type": "markdown",
   "id": "21cbbb28-c974-4a31-ad88-7509aa7c0d87",
   "metadata": {},
   "source": [
    "Now, let's plot each of these features against the Emission, to see how linear their relationship is:"
   ]
  },
  {
   "cell_type": "code",
   "execution_count": 20,
   "id": "fa849e80-6254-4780-bd95-54a8dca0c06d",
   "metadata": {},
   "outputs": [
    {
     "data": {
      "image/png": "[encoded data removed]",
      "text/plain": [
       "<Figure size 432x288 with 1 Axes>"
      ]
     },
     "metadata": {
      "needs_background": "light"
     },
     "output_type": "display_data"
    }
   ],
   "source": [
    "# FUELCONSUMPTION_COMB vs. CO2EMISSIONS\n",
    "\n",
    "plt.scatter(cdf.FUELCONSUMPTION_COMB, cdf.CO2EMISSIONS, color='blue')\n",
    "\n",
    "plt.xlabel('FUELCONSUMPTION')\n",
    "plt.ylabel('EMISSIONS')\n",
    "plt.show()"
   ]
  },
  {
   "cell_type": "code",
   "execution_count": 22,
   "id": "fceda937-843c-4fda-8305-ee08a67d267c",
   "metadata": {},
   "outputs": [
    {
     "data": {
      "image/png": "[encoded data removed]",
      "text/plain": [
       "<Figure size 432x288 with 1 Axes>"
      ]
     },
     "metadata": {
      "needs_background": "light"
     },
     "output_type": "display_data"
    }
   ],
   "source": [
    "# ENGINESIZE vs. CO2EMISSIONS\n",
    "\n",
    "plt.scatter(cdf.ENGINESIZE, cdf.CO2EMISSIONS, color='blue')\n",
    "    \n",
    "plt.xlabel('ENGINESIZE')\n",
    "plt.ylabel('EMISSIONS')\n",
    "plt.show()"
   ]
  },
  {
   "cell_type": "code",
   "execution_count": 23,
   "id": "91888f94-6ce7-419c-8877-4c1659b6d6f3",
   "metadata": {},
   "outputs": [
    {
     "data": {
      "image/png": "[encoded data removed]",
      "text/plain": [
       "<Figure size 432x288 with 1 Axes>"
      ]
     },
     "metadata": {
      "needs_background": "light"
     },
     "output_type": "display_data"
    }
   ],
   "source": [
    "# CYLINDERS vs. CO2EMISSIONS\n",
    "\n",
    "plt.scatter(cdf.CYLINDERS, cdf.CO2EMISSIONS, color='blue')\n",
    "    \n",
    "plt.xlabel('CYLINDERS')\n",
    "plt.ylabel('EMISSIONS')\n",
    "plt.show()"
   ]
  },
  {
   "cell_type": "code",
   "execution_count": 27,
   "id": "5471fdf4-b153-48eb-abd8-4147c9812d01",
   "metadata": {},
   "outputs": [
    {
     "data": {
      "image/png": "[encoded data removed]",
      "text/plain": [
       "<Figure size 432x288 with 2 Axes>"
      ]
     },
     "metadata": {
      "needs_background": "light"
     },
     "output_type": "display_data"
    }
   ],
   "source": [
    "cmap = sns.cm.rocket_r\n",
    "\n",
    "sns.heatmap(cdf.corr(), annot=True, cmap=cmap)\n",
    "\n",
    "plt.show()"
   ]
  },
  {
   "cell_type": "markdown",
   "id": "ffbf8e46-50bf-4612-8eb6-d2a7aa5d7e57",
   "metadata": {},
   "source": [
    "#### Creating train and test dataset\n",
    "\n",
    "Train/Test Split involves splitting the dataset into training and testing sets that are mutually exclusive. After which, you train with the training set and test with the testing set.\n",
    "This will provide a more accurate evaluation on out-of-sample accuracy because the testing dataset is not part of the dataset that have been used to train the model. Therefore, it gives us a better understanding of how well our model generalizes on new data.\n",
    "\n",
    "This means that we know the outcome of each data point in the testing dataset, making it great to test with! Since this data has not been used to train the model, the model has no knowledge of the outcome of these data points. So, in essence, it is truly an out-of-sample testing.\n",
    "\n",
    "Let's split our dataset into train and test sets. 80% of the entire dataset will be used for training and 20% for testing. We create a mask to select random rows using **np.random.rand()** function:"
   ]
  },
  {
   "cell_type": "code",
   "execution_count": 38,
   "id": "d7db2986-5f89-41a0-92c2-a5fc54e5e6bc",
   "metadata": {},
   "outputs": [
    {
     "data": {
      "text/plain": [
       "array([ True,  True,  True, ...,  True,  True,  True])"
      ]
     },
     "execution_count": 38,
     "metadata": {},
     "output_type": "execute_result"
    }
   ],
   "source": [
    "# len(df) 는 1067 개 인데, 0과 1사이의 1067 개의 난수를 만들어서 0.8 보다 작은 것들은 True, 그렇지 않은 것들은 False 로 할당하고 True 에 걸리는 애들은 Train data 로 가져온 것임..\n",
    "\n",
    "msk = np.random.rand(len(df)) < 0.8\n",
    "msk"
   ]
  },
  {
   "cell_type": "code",
   "execution_count": 39,
   "id": "6d2c8eaf-d6c6-4e0c-9ae9-c7da4e7c008a",
   "metadata": {},
   "outputs": [],
   "source": [
    "train = cdf[msk]\n",
    "test = cdf[~msk]"
   ]
  },
  {
   "cell_type": "code",
   "execution_count": 40,
   "id": "c84de673-2672-4c3e-b524-207ba145813b",
   "metadata": {},
   "outputs": [
    {
     "name": "stdout",
     "output_type": "stream",
     "text": [
      "862 205\n"
     ]
    }
   ],
   "source": [
    "print(len(train), len(test))"
   ]
  },
  {
   "cell_type": "code",
   "execution_count": 41,
   "id": "6f8527c2-6795-47b1-b1cd-ada77c70cc3f",
   "metadata": {},
   "outputs": [
    {
     "data": {
      "text/html": [
       "<div>\n",
       "<style scoped>\n",
       "    .dataframe tbody tr th:only-of-type {\n",
       "        vertical-align: middle;\n",
       "    }\n",
       "\n",
       "    .dataframe tbody tr th {\n",
       "        vertical-align: top;\n",
       "    }\n",
       "\n",
       "    .dataframe thead th {\n",
       "        text-align: right;\n",
       "    }\n",
       "</style>\n",
       "<table border=\"1\" class=\"dataframe\">\n",
       "  <thead>\n",
       "    <tr style=\"text-align: right;\">\n",
       "      <th></th>\n",
       "      <th>ENGINESIZE</th>\n",
       "      <th>CYLINDERS</th>\n",
       "      <th>FUELCONSUMPTION_COMB</th>\n",
       "      <th>CO2EMISSIONS</th>\n",
       "    </tr>\n",
       "  </thead>\n",
       "  <tbody>\n",
       "    <tr>\n",
       "      <th>0</th>\n",
       "      <td>2.0</td>\n",
       "      <td>4</td>\n",
       "      <td>8.5</td>\n",
       "      <td>196</td>\n",
       "    </tr>\n",
       "    <tr>\n",
       "      <th>1</th>\n",
       "      <td>2.4</td>\n",
       "      <td>4</td>\n",
       "      <td>9.6</td>\n",
       "      <td>221</td>\n",
       "    </tr>\n",
       "    <tr>\n",
       "      <th>2</th>\n",
       "      <td>1.5</td>\n",
       "      <td>4</td>\n",
       "      <td>5.9</td>\n",
       "      <td>136</td>\n",
       "    </tr>\n",
       "    <tr>\n",
       "      <th>3</th>\n",
       "      <td>3.5</td>\n",
       "      <td>6</td>\n",
       "      <td>11.1</td>\n",
       "      <td>255</td>\n",
       "    </tr>\n",
       "    <tr>\n",
       "      <th>5</th>\n",
       "      <td>3.5</td>\n",
       "      <td>6</td>\n",
       "      <td>10.0</td>\n",
       "      <td>230</td>\n",
       "    </tr>\n",
       "  </tbody>\n",
       "</table>\n",
       "</div>"
      ],
      "text/plain": [
       "   ENGINESIZE  CYLINDERS  FUELCONSUMPTION_COMB  CO2EMISSIONS\n",
       "0         2.0          4                   8.5           196\n",
       "1         2.4          4                   9.6           221\n",
       "2         1.5          4                   5.9           136\n",
       "3         3.5          6                  11.1           255\n",
       "5         3.5          6                  10.0           230"
      ]
     },
     "execution_count": 41,
     "metadata": {},
     "output_type": "execute_result"
    }
   ],
   "source": [
    "train.head(5)"
   ]
  },
  {
   "cell_type": "markdown",
   "id": "7a224805-e3ba-4603-97f0-09eeb322eba3",
   "metadata": {
    "tags": []
   },
   "source": [
    "### Simple Regression Model\n",
    "\n",
    "Linear Regression fits a linear model with coefficients B = (B1, ..., Bn) to minimize the 'residual sum of squares' between the actual value y in the dataset, and the predicted value yhat using linear approximation."
   ]
  },
  {
   "cell_type": "markdown",
   "id": "97ee4855-0460-44e9-bd91-e3a6643a0b60",
   "metadata": {
    "tags": []
   },
   "source": [
    "#### Train data distribution"
   ]
  },
  {
   "cell_type": "code",
   "execution_count": 44,
   "id": "aee85781-7c0a-4d53-8446-43ad48b9d774",
   "metadata": {},
   "outputs": [
    {
     "data": {
      "image/png": "[encoded data removed]",
      "text/plain": [
       "<Figure size 432x288 with 1 Axes>"
      ]
     },
     "metadata": {
      "needs_background": "light"
     },
     "output_type": "display_data"
    }
   ],
   "source": [
    "# scatterplot of train data\n",
    "\n",
    "plt.scatter(train.ENGINESIZE, train.CO2EMISSIONS, color='blue')\n",
    "plt.xlabel('ENGINESIZE')\n",
    "plt.ylabel('EMISSIONS')\n",
    "plt.show()"
   ]
  },
  {
   "cell_type": "markdown",
   "id": "12832be8-b3bd-4d33-a5fd-097c67483a46",
   "metadata": {
    "tags": []
   },
   "source": [
    "#### Modeling\n",
    "\n",
    "Using sklearn package to model data.\n"
   ]
  },
  {
   "cell_type": "code",
   "execution_count": 49,
   "id": "4337b99a-5d87-4459-84f1-66a2c6dcbaaa",
   "metadata": {},
   "outputs": [
    {
     "data": {
      "text/plain": [
       "LinearRegression()"
      ]
     },
     "execution_count": 49,
     "metadata": {},
     "output_type": "execute_result"
    }
   ],
   "source": [
    "from sklearn import linear_model\n",
    "\n",
    "regr = linear_model.LinearRegression()\n",
    "train_x = np.asanyarray(train[['ENGINESIZE']]) # np.asanyarray 는 리스트, 튜플 등을 array 배열로 바꿔주는 함수\n",
    "train_y = np.asanyarray(train[['CO2EMISSIONS']])\n",
    "\n",
    "regr.fit(train_x, train_y) # train 데이터를 넣어서 모델을 훈련시켜 줌\n"
   ]
  },
  {
   "cell_type": "code",
   "execution_count": 50,
   "id": "373b99ca-a552-402d-b94d-8390a8b870fd",
   "metadata": {},
   "outputs": [
    {
     "name": "stdout",
     "output_type": "stream",
     "text": [
      "Coefficients:  [[39.21059166]]\n",
      "Intercept:  [125.18978912]\n"
     ]
    }
   ],
   "source": [
    "# coefficients 와 intercept 를 추출\n",
    "\n",
    "print('Coefficients: ', regr.coef_)\n",
    "print('Intercept: ', regr.intercept_)"
   ]
  },
  {
   "cell_type": "markdown",
   "id": "d5966aed-d1dd-4f10-97ad-01f2648ba30b",
   "metadata": {},
   "source": [
    "As mentioned before, **Coefficient** and **Intercept** in the simple linear regression, are the parameters of the fit line.\n",
    "Given that it is a simple linear regression, with only 2 parameters, and knowing that the parameters are the intercept and slope of the line, sklearn can estimate them directly from our data.\n",
    "Notice that all of the data must be available to traverse and calculate the parameters."
   ]
  },
  {
   "cell_type": "markdown",
   "id": "46a8f5ad-a417-4384-83f7-070f6a88b410",
   "metadata": {},
   "source": [
    "#### Plot outputs"
   ]
  },
  {
   "cell_type": "markdown",
   "id": "56c507a8-deba-4b7d-8cee-ec887d15c3d5",
   "metadata": {},
   "source": [
    "We can plot the fit line over the data:"
   ]
  },
  {
   "cell_type": "code",
   "execution_count": 66,
   "id": "4a5bbc6e-9e06-470d-bc09-a2e0c70fadf5",
   "metadata": {},
   "outputs": [
    {
     "data": {
      "image/png": "[encoded data removed]",
      "text/plain": [
       "<Figure size 432x288 with 1 Axes>"
      ]
     },
     "metadata": {
      "needs_background": "light"
     },
     "output_type": "display_data"
    }
   ],
   "source": [
    "# plot outputs (train_x, train_y)\n",
    "\n",
    "plt.scatter(train_x, train_y, color='blue')\n",
    "plt.plot(train_x, regr.coef_[0][0]*train_x + regr.intercept_[0], '-r') # 여기에 [0][0] 하는 이유... 밑에 셀 봐보기\n",
    "plt.xlabel('Engine Size')\n",
    "plt.ylabel('Emissions')\n",
    "plt.show()"
   ]
  },
  {
   "cell_type": "code",
   "execution_count": 58,
   "id": "01e0007b-c620-4c30-af24-5adcbb6043d3",
   "metadata": {},
   "outputs": [
    {
     "data": {
      "text/plain": [
       "39.21059165586312"
      ]
     },
     "execution_count": 58,
     "metadata": {},
     "output_type": "execute_result"
    }
   ],
   "source": [
    "regr.coef_[0][0]"
   ]
  },
  {
   "cell_type": "code",
   "execution_count": 61,
   "id": "aa803d48-a05a-46e1-b887-a566271c06bc",
   "metadata": {},
   "outputs": [
    {
     "data": {
      "text/plain": [
       "125.18978912214462"
      ]
     },
     "execution_count": 61,
     "metadata": {},
     "output_type": "execute_result"
    }
   ],
   "source": [
    "regr.intercept_[0]"
   ]
  },
  {
   "cell_type": "markdown",
   "id": "f8564495-85a5-439a-92ce-aabe00116b23",
   "metadata": {},
   "source": [
    "#### Evaluation\n",
    "\n",
    "We compare the actual values and predicted values to calculate the accuracy of a regression model. Evaluation metrics provide a key role in the development of a model, as it provides insight to areas that require improvement.\n",
    "\n",
    "There are different model evaluation metrics, lets use MSE here to calculate the accuracy of our model based on the test set:\n",
    "\n",
    "*   Mean Absolute Error: It is the mean of the absolute value of the errors. This is the easiest of the metrics to understand since it’s just average error.\n",
    "\n",
    "*   Mean Squared Error (MSE): Mean Squared Error (MSE) is the mean of the squared error. It’s more popular than Mean Absolute Error because the focus is geared more towards large errors. This is due to the squared term exponentially increasing larger errors in comparison to smaller ones.\n",
    "\n",
    "*   Root Mean Squared Error (RMSE).\n",
    "\n",
    "*   R-squared is not an error, but rather a popular metric to measure the performance of your regression model. It represents how close the data points are to the fitted regression line. The higher the R-squared value, the better the model fits your data. The best possible score is 1.0 and it can be negative (because the model can be arbitrarily worse)."
   ]
  },
  {
   "cell_type": "code",
   "execution_count": 67,
   "id": "cd76be4a-ec15-4cd3-8cf7-6d9f4b6ae31d",
   "metadata": {},
   "outputs": [
    {
     "data": {
      "text/html": [
       "<div>\n",
       "<style scoped>\n",
       "    .dataframe tbody tr th:only-of-type {\n",
       "        vertical-align: middle;\n",
       "    }\n",
       "\n",
       "    .dataframe tbody tr th {\n",
       "        vertical-align: top;\n",
       "    }\n",
       "\n",
       "    .dataframe thead th {\n",
       "        text-align: right;\n",
       "    }\n",
       "</style>\n",
       "<table border=\"1\" class=\"dataframe\">\n",
       "  <thead>\n",
       "    <tr style=\"text-align: right;\">\n",
       "      <th></th>\n",
       "      <th>ENGINESIZE</th>\n",
       "      <th>CYLINDERS</th>\n",
       "      <th>FUELCONSUMPTION_COMB</th>\n",
       "      <th>CO2EMISSIONS</th>\n",
       "    </tr>\n",
       "  </thead>\n",
       "  <tbody>\n",
       "    <tr>\n",
       "      <th>4</th>\n",
       "      <td>3.5</td>\n",
       "      <td>6</td>\n",
       "      <td>10.6</td>\n",
       "      <td>244</td>\n",
       "    </tr>\n",
       "    <tr>\n",
       "      <th>16</th>\n",
       "      <td>4.7</td>\n",
       "      <td>8</td>\n",
       "      <td>14.7</td>\n",
       "      <td>338</td>\n",
       "    </tr>\n",
       "    <tr>\n",
       "      <th>25</th>\n",
       "      <td>2.0</td>\n",
       "      <td>4</td>\n",
       "      <td>10.2</td>\n",
       "      <td>235</td>\n",
       "    </tr>\n",
       "    <tr>\n",
       "      <th>28</th>\n",
       "      <td>3.0</td>\n",
       "      <td>6</td>\n",
       "      <td>11.2</td>\n",
       "      <td>258</td>\n",
       "    </tr>\n",
       "    <tr>\n",
       "      <th>32</th>\n",
       "      <td>3.0</td>\n",
       "      <td>6</td>\n",
       "      <td>8.4</td>\n",
       "      <td>227</td>\n",
       "    </tr>\n",
       "  </tbody>\n",
       "</table>\n",
       "</div>"
      ],
      "text/plain": [
       "    ENGINESIZE  CYLINDERS  FUELCONSUMPTION_COMB  CO2EMISSIONS\n",
       "4          3.5          6                  10.6           244\n",
       "16         4.7          8                  14.7           338\n",
       "25         2.0          4                  10.2           235\n",
       "28         3.0          6                  11.2           258\n",
       "32         3.0          6                   8.4           227"
      ]
     },
     "execution_count": 67,
     "metadata": {},
     "output_type": "execute_result"
    }
   ],
   "source": [
    "test.head(5)"
   ]
  },
  {
   "cell_type": "code",
   "execution_count": 68,
   "id": "31bdf21e-b66a-4337-a8dd-f03a82b6ae5a",
   "metadata": {},
   "outputs": [],
   "source": [
    "from sklearn.metrics import r2_score\n",
    "\n",
    "test_x = np.asanyarray(test[['ENGINESIZE']]) # np.asanyarray 는 리스트, 튜플 등을 array 배열로 바꿔주는 함수\n",
    "test_y = np.asanyarray(test[['CO2EMISSIONS']])\n",
    "\n",
    "test_y_ = regr.predict(test_x) # test_x 값을 모델에 넣어서 넣은 y_hat 을 보고자 함"
   ]
  },
  {
   "cell_type": "code",
   "execution_count": 73,
   "id": "1231d1e2-ff15-4eeb-b2bb-506fbbdc5671",
   "metadata": {},
   "outputs": [
    {
     "name": "stdout",
     "output_type": "stream",
     "text": [
      "Mean absolute error: 24.92\n"
     ]
    }
   ],
   "source": [
    "# MAE (Mean Absolute Error)\n",
    "\n",
    "print(\"Mean absolute error: %.2f\" % np.mean(np.absolute(test_y_ - test_y)))"
   ]
  },
  {
   "cell_type": "code",
   "execution_count": 74,
   "id": "6ce3b2c6-3893-45f4-bdd0-96bf56c5c476",
   "metadata": {},
   "outputs": [
    {
     "name": "stdout",
     "output_type": "stream",
     "text": [
      "Residual sum of squares (MSE): 1071.36\n"
     ]
    }
   ],
   "source": [
    "# MSE (Mean Square Error)\n",
    "\n",
    "print(\"Residual sum of squares (MSE): %.2f\" % np.mean((test_y_ - test_y)**2))"
   ]
  },
  {
   "cell_type": "code",
   "execution_count": 75,
   "id": "27acfd01-1b56-4df1-8b71-124936a1c439",
   "metadata": {},
   "outputs": [
    {
     "name": "stdout",
     "output_type": "stream",
     "text": [
      "R2-score: 0.70\n"
     ]
    }
   ],
   "source": [
    "# r2_score\n",
    "\n",
    "print(\"R2-score: %.2f\" % r2_score(test_y, test_y_) )"
   ]
  },
  {
   "cell_type": "markdown",
   "id": "f7da26c8-3262-46e8-90c8-87288c93cce0",
   "metadata": {},
   "source": [
    "## Exercise"
   ]
  },
  {
   "cell_type": "markdown",
   "id": "a51fdb44-6475-480a-a089-ade6a0dd6663",
   "metadata": {},
   "source": [
    "Lets see what the evaluation metrics are if we trained a regression model using the `FUELCONSUMPTION_COMB` feature.\n",
    "\n",
    "Start by selecting `FUELCONSUMPTION_COMB` as the train_x data from the `train` dataframe, then select `FUELCONSUMPTION_COMB` as the test_x data from the `test` dataframe"
   ]
  },
  {
   "cell_type": "code",
   "execution_count": 78,
   "id": "b2635021-d6ef-49a8-9ce8-b1a097c8c4be",
   "metadata": {},
   "outputs": [
    {
     "data": {
      "text/html": [
       "<div>\n",
       "<style scoped>\n",
       "    .dataframe tbody tr th:only-of-type {\n",
       "        vertical-align: middle;\n",
       "    }\n",
       "\n",
       "    .dataframe tbody tr th {\n",
       "        vertical-align: top;\n",
       "    }\n",
       "\n",
       "    .dataframe thead th {\n",
       "        text-align: right;\n",
       "    }\n",
       "</style>\n",
       "<table border=\"1\" class=\"dataframe\">\n",
       "  <thead>\n",
       "    <tr style=\"text-align: right;\">\n",
       "      <th></th>\n",
       "      <th>ENGINESIZE</th>\n",
       "      <th>CYLINDERS</th>\n",
       "      <th>FUELCONSUMPTION_COMB</th>\n",
       "      <th>CO2EMISSIONS</th>\n",
       "    </tr>\n",
       "  </thead>\n",
       "  <tbody>\n",
       "    <tr>\n",
       "      <th>0</th>\n",
       "      <td>2.0</td>\n",
       "      <td>4</td>\n",
       "      <td>8.5</td>\n",
       "      <td>196</td>\n",
       "    </tr>\n",
       "    <tr>\n",
       "      <th>1</th>\n",
       "      <td>2.4</td>\n",
       "      <td>4</td>\n",
       "      <td>9.6</td>\n",
       "      <td>221</td>\n",
       "    </tr>\n",
       "    <tr>\n",
       "      <th>2</th>\n",
       "      <td>1.5</td>\n",
       "      <td>4</td>\n",
       "      <td>5.9</td>\n",
       "      <td>136</td>\n",
       "    </tr>\n",
       "    <tr>\n",
       "      <th>3</th>\n",
       "      <td>3.5</td>\n",
       "      <td>6</td>\n",
       "      <td>11.1</td>\n",
       "      <td>255</td>\n",
       "    </tr>\n",
       "    <tr>\n",
       "      <th>5</th>\n",
       "      <td>3.5</td>\n",
       "      <td>6</td>\n",
       "      <td>10.0</td>\n",
       "      <td>230</td>\n",
       "    </tr>\n",
       "  </tbody>\n",
       "</table>\n",
       "</div>"
      ],
      "text/plain": [
       "   ENGINESIZE  CYLINDERS  FUELCONSUMPTION_COMB  CO2EMISSIONS\n",
       "0         2.0          4                   8.5           196\n",
       "1         2.4          4                   9.6           221\n",
       "2         1.5          4                   5.9           136\n",
       "3         3.5          6                  11.1           255\n",
       "5         3.5          6                  10.0           230"
      ]
     },
     "execution_count": 78,
     "metadata": {},
     "output_type": "execute_result"
    }
   ],
   "source": [
    "train.head(5)"
   ]
  },
  {
   "cell_type": "code",
   "execution_count": 81,
   "id": "3049b7d9-8396-4b84-9292-0ea7c737d9df",
   "metadata": {},
   "outputs": [
    {
     "data": {
      "text/plain": [
       "LinearRegression()"
      ]
     },
     "execution_count": 81,
     "metadata": {},
     "output_type": "execute_result"
    }
   ],
   "source": [
    "# Build Models\n",
    "\n",
    "lr = linear_model.LinearRegression()\n",
    "\n",
    "train_x2 = np.asanyarray(train[['FUELCONSUMPTION_COMB']])\n",
    "train_y2 = np.asanyarray(train[['CO2EMISSIONS']])\n",
    "\n",
    "lr.fit(train_x2, train_y2)"
   ]
  },
  {
   "cell_type": "code",
   "execution_count": 83,
   "id": "93892e31-619d-407d-b431-e92e1c359609",
   "metadata": {
    "scrolled": true,
    "tags": []
   },
   "outputs": [
    {
     "data": {
      "text/plain": [
       "array([[240.47291741],\n",
       "       [305.83577886],\n",
       "       [234.09605287],\n",
       "       [250.0382142 ],\n",
       "       [205.40016248],\n",
       "       [250.0382142 ],\n",
       "       [250.0382142 ],\n",
       "       [304.24156273],\n",
       "       [355.25647898],\n",
       "       [253.22664647],\n",
       "       [265.98037553],\n",
       "       [216.55967541],\n",
       "       [235.69026901],\n",
       "       [334.53166925],\n",
       "       [210.18281088],\n",
       "       [230.90762061],\n",
       "       [210.18281088],\n",
       "       [224.53075608],\n",
       "       [230.90762061],\n",
       "       [235.69026901],\n",
       "       [211.77702701],\n",
       "       [197.42908181],\n",
       "       [232.50183674],\n",
       "       [273.9514562 ],\n",
       "       [305.83577886],\n",
       "       [210.18281088],\n",
       "       [264.3861594 ],\n",
       "       [246.84978194],\n",
       "       [206.99437861],\n",
       "       [320.18372406],\n",
       "       [229.31340447],\n",
       "       [251.63243034],\n",
       "       [336.12588539],\n",
       "       [305.83577886],\n",
       "       [250.0382142 ],\n",
       "       [275.54567233],\n",
       "       [250.0382142 ],\n",
       "       [194.24064955],\n",
       "       [262.79194327],\n",
       "       [329.74902085],\n",
       "       [312.21264339],\n",
       "       [414.2424759 ],\n",
       "       [334.53166925],\n",
       "       [361.63334351],\n",
       "       [234.09605287],\n",
       "       [355.25647898],\n",
       "       [197.42908181],\n",
       "       [197.42908181],\n",
       "       [203.80594635],\n",
       "       [181.48692048],\n",
       "       [364.82177578],\n",
       "       [272.35724007],\n",
       "       [301.05313046],\n",
       "       [275.54567233],\n",
       "       [293.08204979],\n",
       "       [230.90762061],\n",
       "       [238.87870127],\n",
       "       [291.48783366],\n",
       "       [275.54567233],\n",
       "       [293.08204979],\n",
       "       [208.58859475],\n",
       "       [187.86378502],\n",
       "       [195.83486568],\n",
       "       [167.13897529],\n",
       "       [363.22755965],\n",
       "       [216.55967541],\n",
       "       [326.56058859],\n",
       "       [273.9514562 ],\n",
       "       [275.54567233],\n",
       "       [285.11096913],\n",
       "       [304.24156273],\n",
       "       [304.24156273],\n",
       "       [285.11096913],\n",
       "       [183.08113662],\n",
       "       [275.54567233],\n",
       "       [232.50183674],\n",
       "       [240.47291741],\n",
       "       [321.77794019],\n",
       "       [267.57459167],\n",
       "       [431.77885337],\n",
       "       [334.53166925],\n",
       "       [273.9514562 ],\n",
       "       [216.55967541],\n",
       "       [272.35724007],\n",
       "       [332.93745312],\n",
       "       [210.18281088],\n",
       "       [242.06713354],\n",
       "       [216.55967541],\n",
       "       [181.48692048],\n",
       "       [191.05221728],\n",
       "       [262.79194327],\n",
       "       [285.11096913],\n",
       "       [208.58859475],\n",
       "       [206.99437861],\n",
       "       [170.32740755],\n",
       "       [171.92162369],\n",
       "       [199.02329795],\n",
       "       [234.09605287],\n",
       "       [267.57459167],\n",
       "       [259.603511  ],\n",
       "       [283.516753  ],\n",
       "       [272.35724007],\n",
       "       [289.89361753],\n",
       "       [232.50183674],\n",
       "       [256.41507874],\n",
       "       [221.34232381],\n",
       "       [234.09605287],\n",
       "       [248.44399807],\n",
       "       [323.37215632],\n",
       "       [227.71918834],\n",
       "       [216.55967541],\n",
       "       [248.44399807],\n",
       "       [203.80594635],\n",
       "       [199.02329795],\n",
       "       [205.40016248],\n",
       "       [206.99437861],\n",
       "       [246.84978194],\n",
       "       [214.96545928],\n",
       "       [211.77702701],\n",
       "       [227.71918834],\n",
       "       [227.71918834],\n",
       "       [269.1688078 ],\n",
       "       [267.57459167],\n",
       "       [267.57459167],\n",
       "       [167.13897529],\n",
       "       [224.53075608],\n",
       "       [246.84978194],\n",
       "       [237.28448514],\n",
       "       [334.53166925],\n",
       "       [251.63243034],\n",
       "       [206.99437861],\n",
       "       [183.08113662],\n",
       "       [184.67535275],\n",
       "       [238.87870127],\n",
       "       [294.67626593],\n",
       "       [238.87870127],\n",
       "       [285.11096913],\n",
       "       [195.83486568],\n",
       "       [237.28448514],\n",
       "       [253.22664647],\n",
       "       [353.66226285],\n",
       "       [323.37215632],\n",
       "       [206.99437861],\n",
       "       [210.18281088],\n",
       "       [203.80594635],\n",
       "       [206.99437861],\n",
       "       [203.80594635],\n",
       "       [214.96545928],\n",
       "       [270.76302393],\n",
       "       [267.57459167],\n",
       "       [208.58859475],\n",
       "       [167.13897529],\n",
       "       [216.55967541],\n",
       "       [192.64643342],\n",
       "       [219.74810768],\n",
       "       [251.63243034],\n",
       "       [289.89361753],\n",
       "       [219.74810768],\n",
       "       [240.47291741],\n",
       "       [246.84978194],\n",
       "       [248.44399807],\n",
       "       [176.70427209],\n",
       "       [243.66134967],\n",
       "       [246.84978194],\n",
       "       [232.50183674],\n",
       "       [240.47291741],\n",
       "       [245.2555658 ],\n",
       "       [261.19772713],\n",
       "       [218.15389154],\n",
       "       [229.31340447],\n",
       "       [251.63243034],\n",
       "       [254.8208626 ],\n",
       "       [275.54567233],\n",
       "       [240.47291741],\n",
       "       [234.09605287],\n",
       "       [261.19772713],\n",
       "       [251.63243034],\n",
       "       [324.96637245],\n",
       "       [214.96545928],\n",
       "       [199.02329795],\n",
       "       [226.12497221],\n",
       "       [206.99437861],\n",
       "       [270.76302393],\n",
       "       [250.0382142 ],\n",
       "       [277.13988846],\n",
       "       [224.53075608],\n",
       "       [187.86378502],\n",
       "       [235.69026901],\n",
       "       [203.80594635],\n",
       "       [146.41416556],\n",
       "       [251.63243034],\n",
       "       [230.90762061],\n",
       "       [206.99437861],\n",
       "       [210.18281088],\n",
       "       [219.74810768],\n",
       "       [232.50183674],\n",
       "       [187.86378502],\n",
       "       [186.26956888],\n",
       "       [218.15389154],\n",
       "       [184.67535275],\n",
       "       [179.89270435],\n",
       "       [256.41507874],\n",
       "       [265.98037553],\n",
       "       [237.28448514],\n",
       "       [226.12497221]])"
      ]
     },
     "execution_count": 83,
     "metadata": {},
     "output_type": "execute_result"
    }
   ],
   "source": [
    "# predicted y value (yhat) using 'predict function'\n",
    "\n",
    "test_x2 = np.asanyarray(test[['FUELCONSUMPTION_COMB']])\n",
    "test_y2 = np.asanyarray(test[['CO2EMISSIONS']])\n",
    "\n",
    "predictions = lr.predict(test_x2) # predict 함수로 predicted value 구해보기\n",
    "predictions"
   ]
  },
  {
   "cell_type": "code",
   "execution_count": 84,
   "id": "aadfec26-0684-4c48-9f1c-6600ccc70558",
   "metadata": {},
   "outputs": [
    {
     "name": "stdout",
     "output_type": "stream",
     "text": [
      "Intercept is:  [71.48600731]\n",
      "Coefficient is:  [[15.94216133]]\n"
     ]
    }
   ],
   "source": [
    "# Getting Intercept and coefficient\n",
    "\n",
    "print(\"Intercept is: \", lr.intercept_)\n",
    "print(\"Coefficient is: \", lr.coef_)"
   ]
  },
  {
   "cell_type": "code",
   "execution_count": 85,
   "id": "ecc3c5c2-60dc-4c69-b10d-16cc0c46ed8d",
   "metadata": {
    "scrolled": true,
    "tags": []
   },
   "outputs": [
    {
     "data": {
      "text/plain": [
       "array([[240.47291741],\n",
       "       [305.83577886],\n",
       "       [234.09605287],\n",
       "       [250.0382142 ],\n",
       "       [205.40016248],\n",
       "       [250.0382142 ],\n",
       "       [250.0382142 ],\n",
       "       [304.24156273],\n",
       "       [355.25647898],\n",
       "       [253.22664647],\n",
       "       [265.98037553],\n",
       "       [216.55967541],\n",
       "       [235.69026901],\n",
       "       [334.53166925],\n",
       "       [210.18281088],\n",
       "       [230.90762061],\n",
       "       [210.18281088],\n",
       "       [224.53075608],\n",
       "       [230.90762061],\n",
       "       [235.69026901],\n",
       "       [211.77702701],\n",
       "       [197.42908181],\n",
       "       [232.50183674],\n",
       "       [273.9514562 ],\n",
       "       [305.83577886],\n",
       "       [210.18281088],\n",
       "       [264.3861594 ],\n",
       "       [246.84978194],\n",
       "       [206.99437861],\n",
       "       [320.18372406],\n",
       "       [229.31340447],\n",
       "       [251.63243034],\n",
       "       [336.12588539],\n",
       "       [305.83577886],\n",
       "       [250.0382142 ],\n",
       "       [275.54567233],\n",
       "       [250.0382142 ],\n",
       "       [194.24064955],\n",
       "       [262.79194327],\n",
       "       [329.74902085],\n",
       "       [312.21264339],\n",
       "       [414.2424759 ],\n",
       "       [334.53166925],\n",
       "       [361.63334351],\n",
       "       [234.09605287],\n",
       "       [355.25647898],\n",
       "       [197.42908181],\n",
       "       [197.42908181],\n",
       "       [203.80594635],\n",
       "       [181.48692048],\n",
       "       [364.82177578],\n",
       "       [272.35724007],\n",
       "       [301.05313046],\n",
       "       [275.54567233],\n",
       "       [293.08204979],\n",
       "       [230.90762061],\n",
       "       [238.87870127],\n",
       "       [291.48783366],\n",
       "       [275.54567233],\n",
       "       [293.08204979],\n",
       "       [208.58859475],\n",
       "       [187.86378502],\n",
       "       [195.83486568],\n",
       "       [167.13897529],\n",
       "       [363.22755965],\n",
       "       [216.55967541],\n",
       "       [326.56058859],\n",
       "       [273.9514562 ],\n",
       "       [275.54567233],\n",
       "       [285.11096913],\n",
       "       [304.24156273],\n",
       "       [304.24156273],\n",
       "       [285.11096913],\n",
       "       [183.08113662],\n",
       "       [275.54567233],\n",
       "       [232.50183674],\n",
       "       [240.47291741],\n",
       "       [321.77794019],\n",
       "       [267.57459167],\n",
       "       [431.77885337],\n",
       "       [334.53166925],\n",
       "       [273.9514562 ],\n",
       "       [216.55967541],\n",
       "       [272.35724007],\n",
       "       [332.93745312],\n",
       "       [210.18281088],\n",
       "       [242.06713354],\n",
       "       [216.55967541],\n",
       "       [181.48692048],\n",
       "       [191.05221728],\n",
       "       [262.79194327],\n",
       "       [285.11096913],\n",
       "       [208.58859475],\n",
       "       [206.99437861],\n",
       "       [170.32740755],\n",
       "       [171.92162369],\n",
       "       [199.02329795],\n",
       "       [234.09605287],\n",
       "       [267.57459167],\n",
       "       [259.603511  ],\n",
       "       [283.516753  ],\n",
       "       [272.35724007],\n",
       "       [289.89361753],\n",
       "       [232.50183674],\n",
       "       [256.41507874],\n",
       "       [221.34232381],\n",
       "       [234.09605287],\n",
       "       [248.44399807],\n",
       "       [323.37215632],\n",
       "       [227.71918834],\n",
       "       [216.55967541],\n",
       "       [248.44399807],\n",
       "       [203.80594635],\n",
       "       [199.02329795],\n",
       "       [205.40016248],\n",
       "       [206.99437861],\n",
       "       [246.84978194],\n",
       "       [214.96545928],\n",
       "       [211.77702701],\n",
       "       [227.71918834],\n",
       "       [227.71918834],\n",
       "       [269.1688078 ],\n",
       "       [267.57459167],\n",
       "       [267.57459167],\n",
       "       [167.13897529],\n",
       "       [224.53075608],\n",
       "       [246.84978194],\n",
       "       [237.28448514],\n",
       "       [334.53166925],\n",
       "       [251.63243034],\n",
       "       [206.99437861],\n",
       "       [183.08113662],\n",
       "       [184.67535275],\n",
       "       [238.87870127],\n",
       "       [294.67626593],\n",
       "       [238.87870127],\n",
       "       [285.11096913],\n",
       "       [195.83486568],\n",
       "       [237.28448514],\n",
       "       [253.22664647],\n",
       "       [353.66226285],\n",
       "       [323.37215632],\n",
       "       [206.99437861],\n",
       "       [210.18281088],\n",
       "       [203.80594635],\n",
       "       [206.99437861],\n",
       "       [203.80594635],\n",
       "       [214.96545928],\n",
       "       [270.76302393],\n",
       "       [267.57459167],\n",
       "       [208.58859475],\n",
       "       [167.13897529],\n",
       "       [216.55967541],\n",
       "       [192.64643342],\n",
       "       [219.74810768],\n",
       "       [251.63243034],\n",
       "       [289.89361753],\n",
       "       [219.74810768],\n",
       "       [240.47291741],\n",
       "       [246.84978194],\n",
       "       [248.44399807],\n",
       "       [176.70427209],\n",
       "       [243.66134967],\n",
       "       [246.84978194],\n",
       "       [232.50183674],\n",
       "       [240.47291741],\n",
       "       [245.2555658 ],\n",
       "       [261.19772713],\n",
       "       [218.15389154],\n",
       "       [229.31340447],\n",
       "       [251.63243034],\n",
       "       [254.8208626 ],\n",
       "       [275.54567233],\n",
       "       [240.47291741],\n",
       "       [234.09605287],\n",
       "       [261.19772713],\n",
       "       [251.63243034],\n",
       "       [324.96637245],\n",
       "       [214.96545928],\n",
       "       [199.02329795],\n",
       "       [226.12497221],\n",
       "       [206.99437861],\n",
       "       [270.76302393],\n",
       "       [250.0382142 ],\n",
       "       [277.13988846],\n",
       "       [224.53075608],\n",
       "       [187.86378502],\n",
       "       [235.69026901],\n",
       "       [203.80594635],\n",
       "       [146.41416556],\n",
       "       [251.63243034],\n",
       "       [230.90762061],\n",
       "       [206.99437861],\n",
       "       [210.18281088],\n",
       "       [219.74810768],\n",
       "       [232.50183674],\n",
       "       [187.86378502],\n",
       "       [186.26956888],\n",
       "       [218.15389154],\n",
       "       [184.67535275],\n",
       "       [179.89270435],\n",
       "       [256.41507874],\n",
       "       [265.98037553],\n",
       "       [237.28448514],\n",
       "       [226.12497221]])"
      ]
     },
     "execution_count": 85,
     "metadata": {},
     "output_type": "execute_result"
    }
   ],
   "source": [
    "# predicted y value (yhat)\n",
    "# predict 함수 안쓰고, intercept 및 slope 로 formala 를 만들어서 구해보기\n",
    "\n",
    "predictions2 = lr.intercept_[0] + lr.coef_[0][0]*test_x2\n",
    "predictions2"
   ]
  },
  {
   "cell_type": "code",
   "execution_count": 88,
   "id": "85cc68fa-f692-469d-abf7-d13dfcf99982",
   "metadata": {},
   "outputs": [
    {
     "name": "stdout",
     "output_type": "stream",
     "text": [
      "Mean Absolute Error is: 18.57\n"
     ]
    }
   ],
   "source": [
    "# Mean Absolute Error 구해보기\n",
    "\n",
    "print(\"Mean Absolute Error is: %.2f\" % np.mean(np.absolute(predictions - test_y2)))"
   ]
  },
  {
   "cell_type": "code",
   "execution_count": null,
   "id": "e49bc2b2-f243-4861-b299-730449fec589",
   "metadata": {},
   "outputs": [],
   "source": []
  }
 ],
 "metadata": {
  "kernelspec": {
   "display_name": "Python 3 (ipykernel)",
   "language": "python",
   "name": "python3"
  },
  "language_info": {
   "codemirror_mode": {
    "name": "ipython",
    "version": 3
   },
   "file_extension": ".py",
   "mimetype": "text/x-python",
   "name": "python",
   "nbconvert_exporter": "python",
   "pygments_lexer": "ipython3",
   "version": "3.9.7"
  }
 },
 "nbformat": 4,
 "nbformat_minor": 5
}
